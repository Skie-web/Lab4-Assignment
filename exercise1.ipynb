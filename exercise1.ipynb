{
 "cells": [
  {
   "cell_type": "code",
   "id": "initial_id",
   "metadata": {
    "collapsed": true,
    "ExecuteTime": {
     "end_time": "2025-08-27T14:52:07.511296Z",
     "start_time": "2025-08-27T14:52:07.475474Z"
    }
   },
   "source": [
    "#Exercise 1.1\n",
    "import pandas as pd\n",
    "from io import StringIO\n",
    "\n",
    "csv_data = '''A,B,C,D\n",
    "1.0,2.0,3.0,4.0\n",
    "5.0,6.0,,8.0\n",
    "10.0,11.0,12.0,'''\n",
    "df = pd.read_csv(StringIO(csv_data))\n",
    "print(df)\n",
    "print(df.isnull().sum())"
   ],
   "outputs": [
    {
     "name": "stdout",
     "output_type": "stream",
     "text": [
      "      A     B     C    D\n",
      "0   1.0   2.0   3.0  4.0\n",
      "1   5.0   6.0   NaN  8.0\n",
      "2  10.0  11.0  12.0  NaN\n",
      "A    0\n",
      "B    0\n",
      "C    1\n",
      "D    1\n",
      "dtype: int64\n"
     ]
    }
   ],
   "execution_count": 47
  },
  {
   "metadata": {
    "ExecuteTime": {
     "end_time": "2025-08-27T14:52:07.527127Z",
     "start_time": "2025-08-27T14:52:07.520584Z"
    }
   },
   "cell_type": "code",
   "source": [
    "#Modifying the dataFrame\n",
    "csv_data_mod = '''A,B,C,D\n",
    "1.0,2.0,3.0,4.0\n",
    "5.0,,6.0,8.0\n",
    ",11.0,12.0,'''\n",
    "df_mod = pd.read_csv(StringIO(csv_data_mod))\n",
    "print(df_mod.isnull().sum())\n"
   ],
   "id": "4ca55dc2af472fbc",
   "outputs": [
    {
     "name": "stdout",
     "output_type": "stream",
     "text": [
      "A    1\n",
      "B    1\n",
      "C    0\n",
      "D    1\n",
      "dtype: int64\n"
     ]
    }
   ],
   "execution_count": 48
  },
  {
   "metadata": {
    "ExecuteTime": {
     "end_time": "2025-08-27T14:52:07.561871Z",
     "start_time": "2025-08-27T14:52:07.536639Z"
    }
   },
   "cell_type": "code",
   "source": [
    "#Exercise 1.2\n",
    "print(df.dropna(axis=0))\n",
    "\n",
    "print(df.dropna(axis=1))\n",
    "\n",
    "print(df.dropna(how='all'))\n",
    "\n",
    "print(df.dropna(thresh=4))\n",
    "\n",
    "print(df.dropna(subset=['C']))"
   ],
   "id": "30e506cea3afc752",
   "outputs": [
    {
     "name": "stdout",
     "output_type": "stream",
     "text": [
      "     A    B    C    D\n",
      "0  1.0  2.0  3.0  4.0\n",
      "      A     B\n",
      "0   1.0   2.0\n",
      "1   5.0   6.0\n",
      "2  10.0  11.0\n",
      "      A     B     C    D\n",
      "0   1.0   2.0   3.0  4.0\n",
      "1   5.0   6.0   NaN  8.0\n",
      "2  10.0  11.0  12.0  NaN\n",
      "     A    B    C    D\n",
      "0  1.0  2.0  3.0  4.0\n",
      "      A     B     C    D\n",
      "0   1.0   2.0   3.0  4.0\n",
      "2  10.0  11.0  12.0  NaN\n"
     ]
    }
   ],
   "execution_count": 49
  },
  {
   "metadata": {
    "ExecuteTime": {
     "end_time": "2025-08-27T14:52:07.591506Z",
     "start_time": "2025-08-27T14:52:07.569031Z"
    }
   },
   "cell_type": "code",
   "source": [
    "#Exercise 1.3\n",
    "from sklearn.impute import SimpleImputer\n",
    "import numpy as np\n",
    "\n",
    "imr = SimpleImputer(missing_values=np.nan, strategy='mean')\n",
    "imr = imr.fit(df.values)\n",
    "imputed_data = imr.transform(df.values)\n",
    "print(imputed_data)"
   ],
   "id": "2989c0d7a44aa898",
   "outputs": [
    {
     "name": "stdout",
     "output_type": "stream",
     "text": [
      "[[ 1.   2.   3.   4. ]\n",
      " [ 5.   6.   7.5  8. ]\n",
      " [10.  11.  12.   6. ]]\n"
     ]
    }
   ],
   "execution_count": 50
  },
  {
   "metadata": {
    "ExecuteTime": {
     "end_time": "2025-08-27T14:52:07.608550Z",
     "start_time": "2025-08-27T14:52:07.597708Z"
    }
   },
   "cell_type": "code",
   "source": [
    "#Change of strategy\n",
    "#Median\n",
    "imr_median = SimpleImputer(strategy='median')\n",
    "imputed_median = imr_median.fit_transform(df.values)\n",
    "print(imputed_median)"
   ],
   "id": "861872557734ac52",
   "outputs": [
    {
     "name": "stdout",
     "output_type": "stream",
     "text": [
      "[[ 1.   2.   3.   4. ]\n",
      " [ 5.   6.   7.5  8. ]\n",
      " [10.  11.  12.   6. ]]\n"
     ]
    }
   ],
   "execution_count": 51
  },
  {
   "metadata": {
    "ExecuteTime": {
     "end_time": "2025-08-27T14:52:07.626721Z",
     "start_time": "2025-08-27T14:52:07.615310Z"
    }
   },
   "cell_type": "code",
   "source": [
    "#Most frequent\n",
    "imr_freq = SimpleImputer(strategy='most_frequent')\n",
    "imputed_freq = imr_freq.fit_transform(df.values)\n",
    "print(imputed_freq)"
   ],
   "id": "f5e4c6567ece2fb0",
   "outputs": [
    {
     "name": "stdout",
     "output_type": "stream",
     "text": [
      "[[ 1.  2.  3.  4.]\n",
      " [ 5.  6.  3.  8.]\n",
      " [10. 11. 12.  4.]]\n"
     ]
    }
   ],
   "execution_count": 52
  },
  {
   "metadata": {
    "ExecuteTime": {
     "end_time": "2025-08-27T14:52:07.648521Z",
     "start_time": "2025-08-27T14:52:07.633834Z"
    }
   },
   "cell_type": "code",
   "source": [
    "#Exercise2\n",
    "#Mapping Ordinal features\n",
    "df = pd.DataFrame([\n",
    "    ['green', 'M', 10.1, 'class2'],\n",
    "    ['red', 'L', 13.5, 'class1'],\n",
    "    ['blue', 'XL', 15.3, 'class2']])\n",
    "df.columns = ['color', 'size', 'price', 'classlabel']\n",
    "\n",
    "size_mapping = {'XL': 3, 'L': 2, 'M': 1}\n",
    "df['size'] = df['size'].map(size_mapping)\n",
    "print(df)\n",
    "\n",
    "# Inverse mapping\n",
    "inv_size_mapping = {v: k for k, v in size_mapping.items()}\n",
    "print(df['size'].map(inv_size_mapping))"
   ],
   "id": "49fc2606c524d40e",
   "outputs": [
    {
     "name": "stdout",
     "output_type": "stream",
     "text": [
      "   color  size  price classlabel\n",
      "0  green     1   10.1     class2\n",
      "1    red     2   13.5     class1\n",
      "2   blue     3   15.3     class2\n",
      "0     M\n",
      "1     L\n",
      "2    XL\n",
      "Name: size, dtype: object\n"
     ]
    }
   ],
   "execution_count": 53
  },
  {
   "metadata": {
    "ExecuteTime": {
     "end_time": "2025-08-27T14:52:07.666607Z",
     "start_time": "2025-08-27T14:52:07.656126Z"
    }
   },
   "cell_type": "code",
   "source": [
    "size_mapping['S'] = 0\n",
    "df = pd.concat([df, pd.DataFrame([['yellow', 'S', 12.0, 'class1']], columns=df.columns)], ignore_index=True)\n",
    "df['size'] = df['size'].map(size_mapping)\n",
    "print(df)"
   ],
   "id": "fa6dc065919b0e6e",
   "outputs": [
    {
     "name": "stdout",
     "output_type": "stream",
     "text": [
      "    color  size  price classlabel\n",
      "0   green   NaN   10.1     class2\n",
      "1     red   NaN   13.5     class1\n",
      "2    blue   NaN   15.3     class2\n",
      "3  yellow   0.0   12.0     class1\n"
     ]
    }
   ],
   "execution_count": 54
  },
  {
   "metadata": {
    "ExecuteTime": {
     "end_time": "2025-08-27T14:52:07.681847Z",
     "start_time": "2025-08-27T14:52:07.674100Z"
    }
   },
   "cell_type": "code",
   "source": [
    "#Exercise 2.2: LabelEncoder\n",
    "from sklearn.preprocessing import LabelEncoder\n",
    "\n",
    "class_le = LabelEncoder()\n",
    "y = class_le.fit_transform(df['classlabel'].values)\n",
    "print(y)\n",
    "\n",
    "# Inverse\n",
    "print(class_le.inverse_transform(y))"
   ],
   "id": "66096b4ab0c2563d",
   "outputs": [
    {
     "name": "stdout",
     "output_type": "stream",
     "text": [
      "[1 0 1 0]\n",
      "['class2' 'class1' 'class2' 'class1']\n"
     ]
    }
   ],
   "execution_count": 55
  },
  {
   "metadata": {
    "ExecuteTime": {
     "end_time": "2025-08-27T14:52:07.719846Z",
     "start_time": "2025-08-27T14:52:07.699024Z"
    }
   },
   "cell_type": "code",
   "source": [
    "X = df[['color', 'size', 'price']].values\n",
    "color_le = LabelEncoder()\n",
    "X[:, 0] = color_le.fit_transform(X[:, 0])\n",
    "print(X)\n",
    "\n",
    "# One-hot encoding\n",
    "from sklearn.preprocessing import OneHotEncoder\n",
    "\n",
    "ohe = OneHotEncoder(sparse_output=False)\n",
    "print(ohe.fit_transform(X[:, [0]]))\n",
    "\n",
    "# Using pandas get_dummies\n",
    "print(pd.get_dummies(df[['price', 'color', 'size']]))\n",
    "\n",
    "# Drop first column to avoid multicollinearity\n",
    "print(pd.get_dummies(df[['price', 'color', 'size']], drop_first=True))"
   ],
   "id": "c8c99ccfce3826d3",
   "outputs": [
    {
     "name": "stdout",
     "output_type": "stream",
     "text": [
      "[[1 nan 10.1]\n",
      " [2 nan 13.5]\n",
      " [0 nan 15.3]\n",
      " [3 0.0 12.0]]\n",
      "[[0. 1. 0. 0.]\n",
      " [0. 0. 1. 0.]\n",
      " [1. 0. 0. 0.]\n",
      " [0. 0. 0. 1.]]\n",
      "   price  size  color_blue  color_green  color_red  color_yellow\n",
      "0   10.1   NaN       False         True      False         False\n",
      "1   13.5   NaN       False        False       True         False\n",
      "2   15.3   NaN        True        False      False         False\n",
      "3   12.0   0.0       False        False      False          True\n",
      "   price  size  color_green  color_red  color_yellow\n",
      "0   10.1   NaN         True      False         False\n",
      "1   13.5   NaN        False       True         False\n",
      "2   15.3   NaN        False      False         False\n",
      "3   12.0   0.0        False      False          True\n"
     ]
    }
   ],
   "execution_count": 56
  },
  {
   "metadata": {
    "ExecuteTime": {
     "end_time": "2025-08-27T14:52:07.760339Z",
     "start_time": "2025-08-27T14:52:07.728103Z"
    }
   },
   "cell_type": "code",
   "source": [
    "#Exercise 3\n",
    "#Load and split\n",
    "from sklearn.datasets import load_wine\n",
    "\n",
    "wine = load_wine()\n",
    "df_wine = pd.DataFrame(wine.data, columns=wine.feature_names)\n",
    "df_wine['Class label'] = wine.target + 1\n",
    "df_wine = df_wine[['Class label'] + list(wine.feature_names)]\n",
    "df_wine.columns = ['Class label', 'Alcohol', 'Malic acid', 'Ash', 'Alcalinity of ash', 'Magnesium',\n",
    "                   'Total phenols', 'Flavanoids', 'Nonflavanoid phenols', 'Proanthocyanins',\n",
    "                   'Color intensity', 'Hue', 'OD280/OD315 of diluted wines', 'Proline']\n",
    "print(df_wine.head())\n",
    "\n",
    "from sklearn.model_selection import train_test_split\n",
    "\n",
    "X, y = df_wine.iloc[:, 1:].values, df_wine.iloc[:, 0].values\n",
    "X_train, X_test, y_train, y_test = train_test_split(X, y, test_size=0.3, random_state=0, stratify=y)\n",
    "print('Train shape:', X_train.shape, 'Test shape:', X_test.shape)"
   ],
   "id": "6057f792f532362a",
   "outputs": [
    {
     "name": "stdout",
     "output_type": "stream",
     "text": [
      "   Class label  Alcohol  Malic acid   Ash  Alcalinity of ash  Magnesium  \\\n",
      "0            1    14.23        1.71  2.43               15.6      127.0   \n",
      "1            1    13.20        1.78  2.14               11.2      100.0   \n",
      "2            1    13.16        2.36  2.67               18.6      101.0   \n",
      "3            1    14.37        1.95  2.50               16.8      113.0   \n",
      "4            1    13.24        2.59  2.87               21.0      118.0   \n",
      "\n",
      "   Total phenols  Flavanoids  Nonflavanoid phenols  Proanthocyanins  \\\n",
      "0           2.80        3.06                  0.28             2.29   \n",
      "1           2.65        2.76                  0.26             1.28   \n",
      "2           2.80        3.24                  0.30             2.81   \n",
      "3           3.85        3.49                  0.24             2.18   \n",
      "4           2.80        2.69                  0.39             1.82   \n",
      "\n",
      "   Color intensity   Hue  OD280/OD315 of diluted wines  Proline  \n",
      "0             5.64  1.04                          3.92   1065.0  \n",
      "1             4.38  1.05                          3.40   1050.0  \n",
      "2             5.68  1.03                          3.17   1185.0  \n",
      "3             7.80  0.86                          3.45   1480.0  \n",
      "4             4.32  1.04                          2.93    735.0  \n",
      "Train shape: (124, 13) Test shape: (54, 13)\n"
     ]
    }
   ],
   "execution_count": 57
  },
  {
   "metadata": {
    "ExecuteTime": {
     "end_time": "2025-08-27T14:52:07.774040Z",
     "start_time": "2025-08-27T14:52:07.768563Z"
    }
   },
   "cell_type": "code",
   "source": [
    "X_train_02, X_test_02, y_train_02, y_test_02 = train_test_split(X, y, test_size=0.2, random_state=0, stratify=y)\n",
    "print('Train shape 0.2:', X_train_02.shape, 'Test shape 0.2:', X_test_02.shape)\n"
   ],
   "id": "d694a1a05ec107",
   "outputs": [
    {
     "name": "stdout",
     "output_type": "stream",
     "text": [
      "Train shape 0.2: (142, 13) Test shape 0.2: (36, 13)\n"
     ]
    }
   ],
   "execution_count": 58
  },
  {
   "metadata": {
    "ExecuteTime": {
     "end_time": "2025-08-27T14:52:07.793300Z",
     "start_time": "2025-08-27T14:52:07.782414Z"
    }
   },
   "cell_type": "code",
   "source": [
    "#Exercise 4\n",
    "from sklearn.preprocessing import MinMaxScaler\n",
    "\n",
    "mms = MinMaxScaler()\n",
    "X_train_norm = mms.fit_transform(X_train)\n",
    "X_test_norm = mms.transform(X_test)\n",
    "print(X_train_norm[:2])"
   ],
   "id": "bc70ca11d4e07333",
   "outputs": [
    {
     "name": "stdout",
     "output_type": "stream",
     "text": [
      "[[0.64619883 0.83201581 0.4248366  0.46236559 0.27160494 0.35172414\n",
      "  0.09704641 0.68       0.18987342 0.23623446 0.45744681 0.28571429\n",
      "  0.19400856]\n",
      " [0.6871345  0.15612648 0.65359477 0.43548387 0.7654321  0.67931034\n",
      "  0.50632911 0.74       0.2943038  0.3250444  0.81914894 0.63369963\n",
      "  0.68259629]]\n"
     ]
    }
   ],
   "execution_count": 59
  },
  {
   "metadata": {
    "ExecuteTime": {
     "end_time": "2025-08-27T14:52:08.069785Z",
     "start_time": "2025-08-27T14:52:07.800015Z"
    }
   },
   "cell_type": "code",
   "source": [
    "#plot histogram\n",
    "import matplotlib.pyplot as plt\n",
    "plt.figure(figsize=(10,4))\n",
    "plt.subplot(1,2,1)\n",
    "plt.hist(X_train[:,0], bins=20)\n",
    "plt.title('Alcohol Before Norm')\n",
    "plt.subplot(1,2,2)\n",
    "plt.hist(X_train_norm[:,0], bins=20)\n",
    "plt.title('Alcohol After Norm')\n",
    "# plt.show()  # Uncomment to display"
   ],
   "id": "f7b95aca1b196bce",
   "outputs": [
    {
     "data": {
      "text/plain": [
       "Text(0.5, 1.0, 'Alcohol After Norm')"
      ]
     },
     "execution_count": 60,
     "metadata": {},
     "output_type": "execute_result"
    },
    {
     "data": {
      "text/plain": [
       "<Figure size 1000x400 with 2 Axes>"
      ],
      "image/png": "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"
     },
     "metadata": {},
     "output_type": "display_data"
    }
   ],
   "execution_count": 60
  },
  {
   "metadata": {
    "ExecuteTime": {
     "end_time": "2025-08-27T14:52:08.084951Z",
     "start_time": "2025-08-27T14:52:08.077137Z"
    }
   },
   "cell_type": "code",
   "source": [
    "#Exercise 4.2\n",
    "from sklearn.preprocessing import StandardScaler\n",
    "\n",
    "stdsc = StandardScaler()\n",
    "X_train_std = stdsc.fit_transform(X_train)\n",
    "X_test_std = stdsc.transform(X_test)\n",
    "print(X_train_std[:2])"
   ],
   "id": "6ca51c423ef2ef70",
   "outputs": [
    {
     "name": "stdout",
     "output_type": "stream",
     "text": [
      "[[ 0.71225893  2.22048673 -0.13025864  0.05962872 -0.50432733 -0.52831584\n",
      "  -1.24000033  0.84118003 -1.05215112 -0.29218864 -0.20017028 -0.82164144\n",
      "  -0.62946362]\n",
      " [ 0.88229214 -0.70457155  1.17533605 -0.09065504  2.34147876  1.01675879\n",
      "   0.66299475  1.0887425  -0.49293533  0.13152077  1.33982592  0.54931269\n",
      "   1.47568796]]\n"
     ]
    }
   ],
   "execution_count": 61
  },
  {
   "metadata": {
    "ExecuteTime": {
     "end_time": "2025-08-27T14:52:08.108356Z",
     "start_time": "2025-08-27T14:52:08.091743Z"
    }
   },
   "cell_type": "code",
   "source": [
    "#Exercise 5\n",
    "from sklearn.linear_model import LogisticRegression\n",
    "\n",
    "lr = LogisticRegression(penalty='l1', C=1.0, solver='liblinear', multi_class='ovr')\n",
    "lr.fit(X_train_std, y_train)\n",
    "print('Training accuracy:', lr.score(X_train_std, y_train))\n",
    "print('Test accuracy:', lr.score(X_test_std, y_test))\n",
    "print('Coef:', lr.coef_)"
   ],
   "id": "8c1c712f92822101",
   "outputs": [
    {
     "name": "stdout",
     "output_type": "stream",
     "text": [
      "Training accuracy: 1.0\n",
      "Test accuracy: 1.0\n",
      "Coef: [[ 1.24583146  0.18045763  0.74474571 -1.16232484  0.          0.\n",
      "   1.16568502  0.          0.          0.          0.          0.55135597\n",
      "   2.50984127]\n",
      " [-1.53727116 -0.38710141 -0.99526021  0.36493729 -0.05934684  0.\n",
      "   0.6678879   0.          0.         -1.93442283  1.2340732   0.\n",
      "  -2.23207816]\n",
      " [ 0.13566294  0.16787023  0.35696009  0.          0.          0.\n",
      "  -2.44008375  0.          0.          1.56527333 -0.81975556 -0.48958512\n",
      "   0.        ]]\n"
     ]
    },
    {
     "name": "stderr",
     "output_type": "stream",
     
    }
   ],
   "execution_count": 62
  },
  {
   "metadata": {
    "ExecuteTime": {
     "end_time": "2025-08-27T14:52:08.125924Z",
     "start_time": "2025-08-27T14:52:08.118004Z"
    }
   },
   "cell_type": "code",
   "source": [
    "from sklearn.linear_model import LogisticRegression\n",
    "\n",
    "lr = LogisticRegression(penalty='l1', C=0.1, solver='liblinear', multi_class='ovr')\n",
    "lr.fit(X_train_std, y_train)\n",
    "print('Training accuracy:', lr.score(X_train_std, y_train))\n",
    "print('Test accuracy:', lr.score(X_test_std, y_test))\n",
    "print('Coef:', lr.coef_)"
   ],
   "id": "6dbc24b1009891e9",
   "outputs": [
    {
     "name": "stdout",
     "output_type": "stream",
     "text": [
      "Training accuracy: 0.9596774193548387\n",
      "Test accuracy: 0.9814814814814815\n",
      "Coef: [[ 0.21944017  0.          0.          0.          0.          0.\n",
      "   0.54250878  0.          0.          0.          0.          0.\n",
      "   1.5148159 ]\n",
      " [-0.76607613 -0.04070439  0.          0.          0.          0.\n",
      "   0.          0.          0.         -0.82415318  0.00674134  0.0647202\n",
      "  -0.41574646]\n",
      " [ 0.          0.          0.          0.          0.          0.\n",
      "  -0.74418178  0.          0.          0.42991771 -0.31930017 -0.51884867\n",
      "   0.        ]]\n"
     ]
    },
    {
     "name": "stderr",
     "output_type": "stream",
     
    }
   ],
   "execution_count": 63
  },
  {
   "metadata": {
    "ExecuteTime": {
     "end_time": "2025-08-27T14:52:08.142844Z",
     "start_time": "2025-08-27T14:52:08.134217Z"
    }
   },
   "cell_type": "code",
   "source": [
    "from sklearn.linear_model import LogisticRegression\n",
    "\n",
    "lr = LogisticRegression(penalty='l1', C=10 , solver='liblinear', multi_class='ovr')\n",
    "lr.fit(X_train_std, y_train)\n",
    "print('Training accuracy:', lr.score(X_train_std, y_train))\n",
    "print('Test accuracy:', lr.score(X_test_std, y_test))\n",
    "print('Coef:', lr.coef_)"
   ],
   "id": "c104ae8afd1c0893",
   "outputs": [
    {
     "name": "stdout",
     "output_type": "stream",
     "text": [
      "Training accuracy: 1.0\n",
      "Test accuracy: 1.0\n",
      "Coef: [[ 2.79966126  1.01954312  2.05917077 -3.15518398  0.35270271  0.\n",
      "   1.74070222  0.          0.          0.          0.          2.19332242\n",
      "   3.90897059]\n",
      " [-2.69160035 -1.1008339  -2.84192352  1.43617329  0.          0.\n",
      "   1.8803551   0.96987335  0.         -6.07133344  2.38514638  0.\n",
      "  -5.37103999]\n",
      " [ 2.00594362  0.01805349  1.34205582  0.          0.          0.\n",
      "  -5.07206732 -0.57940368  0.          3.06341201 -2.05215508 -1.35898489\n",
      "   0.        ]]\n"
     ]
    },
    {
     "name": "stderr",
     "output_type": "stream",
    
    }
   ],
   "execution_count": 64
  },
  {
   "metadata": {
    "ExecuteTime": {
     "end_time": "2025-08-27T14:52:08.249068Z",
     "start_time": "2025-08-27T14:52:08.151749Z"
    }
   },
   "cell_type": "code",
   "source": [
    "import matplotlib.pyplot as plt\n",
    "Cs = [0.1, 1, 10]\n",
    "coefs = [lr01.coef_, lr.coef_, lr10.coef_]\n",
    "for i, c in enumerate(Cs):\n",
    "    plt.plot(range(13), coefs[i][0], label=f'C={c}')  # For class 1\n",
    "plt.legend()\n",
    "# plt.show()"
   ],
   "id": "3cf35a931ab41a21",
   "outputs": [
    {
     "data": {
      "text/plain": [
       "<matplotlib.legend.Legend at 0x1ecfff1a0d0>"
      ]
     },
     "execution_count": 65,
     "metadata": {},
     "output_type": "execute_result"
    },
    {
     "data": {
      "text/plain": [
       "<Figure size 640x480 with 1 Axes>"
      ],
      "image/png": "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"
     },
     "metadata": {},
     "output_type": "display_data"
    }
   ],
   "execution_count": 65
  },
  {
   "metadata": {
    "ExecuteTime": {
     "end_time": "2025-08-27T14:52:08.266611Z",
     "start_time": "2025-08-27T14:52:08.256282Z"
    }
   },
   "cell_type": "code",
   "source": [
    "from sklearn.base import clone\n",
    "from itertools import combinations\n",
    "from sklearn.metrics import accuracy_score\n",
    "from sklearn.model_selection import train_test_split\n",
    "import numpy as np\n",
    "\n",
    "class SBS:\n",
    "    def __init__(self, estimator, k_features, scoring=accuracy_score,\n",
    "                 test_size=0.25, random_state=1):\n",
    "        self.estimator = clone(estimator)\n",
    "        self.k_features = k_features\n",
    "        self.scoring = scoring\n",
    "        self.test_size = test_size\n",
    "        self.random_state = random_state\n",
    "\n",
    "    def fit(self, X, y):\n",
    "        X_train, X_test, y_train, y_test = train_test_split(\n",
    "            X, y, test_size=self.test_size, random_state=self.random_state)\n",
    "\n",
    "        dim = X_train.shape[1]\n",
    "        self.indices_ = tuple(range(dim))\n",
    "        self.subsets_ = [self.indices_]\n",
    "        score = self._calc_score(X_train, y_train, X_test, y_test, self.indices_)\n",
    "        self.scores_ = [score]\n",
    "\n",
    "        while dim > self.k_features:\n",
    "            scores = []\n",
    "            subsets = []\n",
    "            for p in combinations(self.indices_, r=dim - 1):\n",
    "                score = self._calc_score(X_train, y_train, X_test, y_test, p)\n",
    "                scores.append(score)\n",
    "                subsets.append(p)\n",
    "\n",
    "            best = np.argmax(scores)\n",
    "            self.indices_ = subsets[best]\n",
    "            self.subsets_.append(self.indices_)\n",
    "            self.scores_.append(scores[best])\n",
    "            dim -= 1\n",
    "\n",
    "        return self\n",
    "\n",
    "    def _calc_score(self, X_train, y_train, X_test, y_test, indices):\n",
    "        self.estimator.fit(X_train[:, indices], y_train)\n",
    "        y_pred = self.estimator.predict(X_test[:, indices])\n",
    "        score = self.scoring(y_test, y_pred)\n",
    "        return score\n",
    "\n",
    "    def transform(self, X):\n",
    "        return X[:, self.indices_]"
   ],
   "id": "5780b8ec34bd8740",
   "outputs": [],
   "execution_count": 66
  },
  {
   "metadata": {
    "ExecuteTime": {
     "end_time": "2025-08-27T14:53:08.716907Z",
     "start_time": "2025-08-27T14:53:08.500559Z"
    }
   },
   "cell_type": "code",
   "source": [
    "import matplotlib.pyplot as plt\n",
    "from sklearn.neighbors import KNeighborsClassifier\n",
    "\n",
    "knn = KNeighborsClassifier(n_neighbors=5)\n",
    "sbs = SBS(knn, k_features=1)\n",
    "sbs.fit(X_train_std, y_train)\n",
    "\n",
    "k_feat = [len(k) for k in sbs.subsets_]\n",
    "plt.plot(k_feat, sbs.scores_, marker='o')\n",
    "plt.ylim([0.7, 1.02])\n",
    "plt.ylabel('Accuracy')\n",
    "plt.xlabel('Number of features')\n",
    "plt.grid()\n",
    "plt.show()\n",
    "\n",
    "k3 = list(sbs.subsets_[10])\n",
    "print(df_wine.columns[1:][k3])\n",
    "\n",
    "knn.fit(X_train_std[:, k3], y_train)\n",
    "print('Test accuracy:', knn.score(X_test_std[:, k3], y_test))"
   ],
   "id": "3f67234ba784d855",
   "outputs": [
    {
     "data": {
      "text/plain": [
       "<Figure size 640x480 with 1 Axes>"
      ],
      "image/png": "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"
     },
     "metadata": {},
     "output_type": "display_data"
    },
    {
     "name": "stdout",
     "output_type": "stream",
     "text": [
      "Index(['Alcohol', 'Malic acid', 'OD280/OD315 of diluted wines'], dtype='object')\n",
      "Test accuracy: 0.9259259259259259\n"
     ]
    }
   ],
   "execution_count": 69
  },
  {
   "metadata": {
    "ExecuteTime": {
     "end_time": "2025-08-27T14:52:09.253282Z",
     "start_time": "2025-08-27T14:52:08.272875Z"
    }
   },
   "cell_type": "code",
   "source": [
    "from sklearn.ensemble import RandomForestClassifier\n",
    "\n",
    "feat_labels = df_wine.columns[1:]\n",
    "forest = RandomForestClassifier(n_estimators=500, random_state=1)\n",
    "forest.fit(X_train, y_train)\n",
    "importances = forest.feature_importances_\n",
    "indices = np.argsort(importances)[::-1]\n",
    "\n",
    "for f in range(X_train.shape[1]):\n",
    "    print(\"%2d) %-*s %f\" % (f + 1, 30, feat_labels[indices[f]], importances[indices[f]]))\n",
    "\n",
    "plt.title('Feature Importance')\n",
    "plt.bar(range(X_train.shape[1]), importances[indices], align='center')\n",
    "plt.xticks(range(X_train.shape[1]), feat_labels[indices], rotation=90)\n",
    "plt.xlim([-1, X_train.shape[1]])\n",
    "plt.tight_layout()\n",
    "# plt.show()"
   ],
   "id": "f1065bf9591a92f3",
   "outputs": [
    {
     "name": "stdout",
     "output_type": "stream",
     "text": [
      " 1) Proline                        0.185453\n",
      " 2) Flavanoids                     0.174751\n",
      " 3) Color intensity                0.143920\n",
      " 4) OD280/OD315 of diluted wines   0.136162\n",
      " 5) Alcohol                        0.118529\n",
      " 6) Hue                            0.058739\n",
      " 7) Total phenols                  0.050872\n",
      " 8) Magnesium                      0.031357\n",
      " 9) Malic acid                     0.025648\n",
      "10) Proanthocyanins                0.025570\n",
      "11) Alcalinity of ash              0.022366\n",
      "12) Nonflavanoid phenols           0.013354\n",
      "13) Ash                            0.013279\n"
     ]
    },
    {
     "data": {
      "text/plain": [
       "<Figure size 640x480 with 1 Axes>"
      ],
      "image/png": "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"
     },
     "metadata": {},
     "output_type": "display_data"
    }
   ],
   "execution_count": 67
  },
  {
   "metadata": {
    "ExecuteTime": {
     "end_time": "2025-08-27T14:56:12.529347Z",
     "start_time": "2025-08-27T14:56:12.477017Z"
    }
   },
   "cell_type": "code",
   "source": [
    "from sklearn.feature_selection import SelectFromModel\n",
    "\n",
    "sfm = SelectFromModel(forest, threshold=0.1, prefit=True)\n",
    "X_selected = sfm.transform(X_train)\n",
    "print(\"Selected features shape:\", X_selected.shape)"
   ],
   "id": "b8d63f2bead1393f",
   "outputs": [
    {
     "name": "stdout",
     "output_type": "stream",
     "text": [
      "Selected features shape: (124, 5)\n"
     ]
    }
   ],
   "execution_count": 71
  }
 ],
 "metadata": {
  "kernelspec": {
   "display_name": "Python 3",
   "language": "python",
   "name": "python3"
  },
  "language_info": {
   "codemirror_mode": {
    "name": "ipython",
    "version": 2
   },
   "file_extension": ".py",
   "mimetype": "text/x-python",
   "name": "python",
   "nbconvert_exporter": "python",
   "pygments_lexer": "ipython2",
   "version": "2.7.6"
  }
 },
 "nbformat": 4,
 "nbformat_minor": 5
}
